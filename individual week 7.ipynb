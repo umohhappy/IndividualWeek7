{
 "cells": [
  {
   "cell_type": "code",
   "execution_count": 1,
   "id": "fc3a4db2",
   "metadata": {},
   "outputs": [
    {
     "name": "stdout",
     "output_type": "stream",
     "text": [
      "Here is a program that encrypts and decrypts in Ciphertext\n",
      "\n",
      "Do you know about Ciphertext? \n",
      " Lets dive in. \n",
      "You'll see how it works\n",
      "You may enter your plain text here  :ABCDEFGHIJKLMNOPQRSTUVWXYZ\n",
      "\n",
      "What would you like to use as your key? :23\n",
      "\n",
      " XYZABCDEFGHIJKLMNOPQRSTUVW\n",
      "You may enter your cipher text here: \n",
      " QEB NRFZH YOLTK CLU GRJMP LSBO QEB IXWV ALD\n",
      "\n",
      "What would you like to use as your key? :23\n",
      "\n",
      " THE QUICK BROWN FOX JUMPS OVER THE LAZY DOG\n"
     ]
    }
   ],
   "source": [
    "# A program to encrypt and decrypt messages using cipher algorithm\n",
    "\n",
    "print (\"Here is a program that encrypts and decrypts in Ciphertext\")\n",
    "print()\n",
    "print (\"Do you know about Ciphertext? \\n Lets dive in. \\nYou'll see how it works\")\n",
    "\n",
    "\n",
    "\n",
    "# A variable for getting input from the user\n",
    "message =input(\"You may enter your plain text here  :\"  ).upper()\n",
    "\n",
    "print()\n",
    "key = int(input (\"What would you like to use as your key? :\" ))\n",
    "\n",
    "# function creation for encryption of texts\n",
    "\n",
    "def encrypt_message(message, key): \n",
    "    encrypted_message = ' '\n",
    "    for char in message:\n",
    "        \n",
    "        if (char.isupper()):\n",
    "            calc=(ord (char) -(ord ('A')) +  key) %26\n",
    "            encrypted_message+=chr(calc + ord('A'))\n",
    "        else:\n",
    "            encrypted_message += char\n",
    "\n",
    "# calling the function\n",
    "\n",
    "    return encrypted_message\n",
    "print()\n",
    "print(encrypt_message (message, key))\n",
    "message =input(\"You may enter your cipher text here: \\n\"  ).upper()\n",
    "print()\n",
    "key = int(input (\"What would you like to use as your key? :\" ))\n",
    "\n",
    "# Another function for decrypting messages\n",
    "def decrypt_message (message, key):\n",
    "    decrypted_message = ''\n",
    "    for char in message:\n",
    "        if (char.isupper()):\n",
    "            calc=(ord(char)+(ord('A'))- key)%26\n",
    "                  \n",
    "\n",
    "            decrypted_message +=chr(calc + ord('A'))\n",
    "        else:\n",
    "            decrypted_message+= char\n",
    "\n",
    "# calling the function\n",
    "    return decrypted_message\n",
    "\n",
    "            \n",
    "print()\n",
    "print(decrypt_message (message, key))\n",
    "\n"
   ]
  },
  {
   "cell_type": "code",
   "execution_count": null,
   "id": "ce02537c",
   "metadata": {},
   "outputs": [],
   "source": []
  }
 ],
 "metadata": {
  "kernelspec": {
   "display_name": "Python 3 (ipykernel)",
   "language": "python",
   "name": "python3"
  },
  "language_info": {
   "codemirror_mode": {
    "name": "ipython",
    "version": 3
   },
   "file_extension": ".py",
   "mimetype": "text/x-python",
   "name": "python",
   "nbconvert_exporter": "python",
   "pygments_lexer": "ipython3",
   "version": "3.9.13"
  }
 },
 "nbformat": 4,
 "nbformat_minor": 5
}
